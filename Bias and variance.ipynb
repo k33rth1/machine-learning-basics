{
 "cells": [
  {
   "cell_type": "code",
   "execution_count": 3,
   "id": "7c9317a6",
   "metadata": {},
   "outputs": [],
   "source": [
    "import pandas as pd\n",
    "import numpy as np\n",
    "import matplotlib.pyplot as plt\n",
    "from sklearn import datasets\n",
    "from sklearn.model_selection import train_test_split\n",
    "from sklearn.linear_model import LinearRegression"
   ]
  },
  {
   "cell_type": "code",
   "execution_count": 4,
   "id": "a6b30f02",
   "metadata": {},
   "outputs": [],
   "source": [
    "# Loading pre-defined Boston Dataset\n",
    "boston_dataset = datasets.load_boston()"
   ]
  },
  {
   "cell_type": "code",
   "execution_count": 6,
   "id": "a29d3738",
   "metadata": {},
   "outputs": [
    {
     "name": "stdout",
     "output_type": "stream",
     "text": [
      "      CRIM    ZN  INDUS  CHAS    NOX     RM   AGE     DIS  RAD    TAX  \\\n",
      "0  0.00632  18.0   2.31   0.0  0.538  6.575  65.2  4.0900  1.0  296.0   \n",
      "1  0.02731   0.0   7.07   0.0  0.469  6.421  78.9  4.9671  2.0  242.0   \n",
      "2  0.02729   0.0   7.07   0.0  0.469  7.185  61.1  4.9671  2.0  242.0   \n",
      "3  0.03237   0.0   2.18   0.0  0.458  6.998  45.8  6.0622  3.0  222.0   \n",
      "4  0.06905   0.0   2.18   0.0  0.458  7.147  54.2  6.0622  3.0  222.0   \n",
      "\n",
      "   PTRATIO       B  LSTAT  House Price  \n",
      "0     15.3  396.90   4.98         24.0  \n",
      "1     17.8  396.90   9.14         21.6  \n",
      "2     17.8  392.83   4.03         34.7  \n",
      "3     18.7  394.63   2.94         33.4  \n",
      "4     18.7  396.90   5.33         36.2  \n"
     ]
    }
   ],
   "source": [
    "#Load the dataset\n",
    "boston_pd = pd.DataFrame(boston_dataset.data)\n",
    "boston_pd.columns = boston_dataset.feature_names\n",
    "boston_pd_target = np.asarray(boston_dataset.target)\n",
    "boston_pd['House Price'] = pd.Series(boston_pd_target)\n",
    "#input\n",
    "X = boston_pd.iloc[:,:-1]\n",
    "#output\n",
    "Y = boston_pd.iloc[:,-1]\n",
    "\n",
    "print(boston_pd.head())"
   ]
  },
  {
   "cell_type": "code",
   "execution_count": 8,
   "id": "ac0a0bf7",
   "metadata": {},
   "outputs": [
    {
     "name": "stdout",
     "output_type": "stream",
     "text": [
      "Train daa shape of X = (379, 13) and Y = (379,): \n",
      "Test data shape of X = (127, 13) and Y = (127,):\n"
     ]
    }
   ],
   "source": [
    "x_train,x_test,y_train,y_test = train_test_split(\n",
    "boston_pd.iloc[:,:-1], boston_pd.iloc[:,-1],\n",
    "test_size = 0.25)\n",
    "print(\"Train daa shape of X = %s and Y = %s: \"%(\n",
    "x_train.shape,y_train.shape))\n",
    "\n",
    "print(\"Test data shape of X = %s and Y = %s:\"%(\n",
    "x_test.shape,y_test.shape))"
   ]
  },
  {
   "cell_type": "code",
   "execution_count": 14,
   "id": "36d3cc37",
   "metadata": {},
   "outputs": [
    {
     "name": "stdout",
     "output_type": "stream",
     "text": [
      "Mean squared Error on test set : 25.98457102847125\n",
      "    Columns  Coeficient Estimate\n",
      "0      CRIM            -0.083539\n",
      "1        ZN             0.039307\n",
      "2     INDUS             0.037058\n",
      "3      CHAS             4.315662\n",
      "4       NOX           -17.818872\n",
      "5        RM             4.475578\n",
      "6       AGE            -0.002658\n",
      "7       DIS            -1.306320\n",
      "8       RAD             0.252858\n",
      "9       TAX            -0.011808\n",
      "10  PTRATIO            -0.845130\n",
      "11        B             0.008502\n",
      "12    LSTAT            -0.484555\n"
     ]
    }
   ],
   "source": [
    "#Apply multiple linear Regression Mode\n",
    "lreg = LinearRegression()\n",
    "lreg.fit(x_train,y_train)\n",
    "\n",
    "#Generate prediction on test set\n",
    "lreg_y_pred = lreg.predict(x_test)\n",
    "#calculating Mean squared Error(mse)\n",
    "mean_squared_error = np.mean((lreg_y_pred - y_test)**2)\n",
    "print(\"Mean squared Error on test set :\", mean_squared_error)\n",
    "#putting together the coefficient and their corresponding variable names\n",
    "lreg_coefficient = pd.DataFrame()\n",
    "lreg_coefficient[\"Columns\"] = x_train.columns\n",
    "lreg_coefficient['Coeficient Estimate'] = pd.Series(lreg.coef_)\n",
    "print(lreg_coefficient)"
   ]
  },
  {
   "cell_type": "code",
   "execution_count": null,
   "id": "0e7f6c09",
   "metadata": {},
   "outputs": [],
   "source": []
  }
 ],
 "metadata": {
  "celltoolbar": "Tags",
  "kernelspec": {
   "display_name": "Python 3",
   "language": "python",
   "name": "python3"
  },
  "language_info": {
   "codemirror_mode": {
    "name": "ipython",
    "version": 3
   },
   "file_extension": ".py",
   "mimetype": "text/x-python",
   "name": "python",
   "nbconvert_exporter": "python",
   "pygments_lexer": "ipython3",
   "version": "3.8.8"
  }
 },
 "nbformat": 4,
 "nbformat_minor": 5
}
