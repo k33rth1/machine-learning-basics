{
 "cells": [
  {
   "cell_type": "code",
   "execution_count": 1,
   "id": "3809636e",
   "metadata": {},
   "outputs": [],
   "source": [
    "#linear algebra,vectors and matrix\n",
    "import numpy as np"
   ]
  },
  {
   "cell_type": "code",
   "execution_count": 2,
   "id": "ede98d7b",
   "metadata": {},
   "outputs": [
    {
     "name": "stdout",
     "output_type": "stream",
     "text": [
      "[[10 15]]\n",
      "[[20  9]]\n"
     ]
    },
    {
     "data": {
      "text/plain": [
       "array([[30],\n",
       "       [24]])"
      ]
     },
     "execution_count": 2,
     "metadata": {},
     "output_type": "execute_result"
    }
   ],
   "source": [
    "a= np.array([[10,15]])\n",
    "b= np.array([[20,9]])\n",
    "print(a)\n",
    "print(b)\n",
    "(a+b).T"
   ]
  },
  {
   "cell_type": "code",
   "execution_count": 3,
   "id": "55a0abbb",
   "metadata": {},
   "outputs": [
    {
     "data": {
      "text/plain": [
       "array([[-10,   6]])"
      ]
     },
     "execution_count": 3,
     "metadata": {},
     "output_type": "execute_result"
    }
   ],
   "source": [
    "a-b"
   ]
  },
  {
   "cell_type": "code",
   "execution_count": 5,
   "id": "10e3de4c",
   "metadata": {},
   "outputs": [
    {
     "data": {
      "text/plain": [
       "array([[60],\n",
       "       [30]])"
      ]
     },
     "execution_count": 5,
     "metadata": {},
     "output_type": "execute_result"
    }
   ],
   "source": [
    "#scaler\n",
    "a=2\n",
    "u=np.array([[30,15]])\n",
    "(a*u).T"
   ]
  },
  {
   "cell_type": "code",
   "execution_count": 7,
   "id": "ec7de2c2",
   "metadata": {},
   "outputs": [
    {
     "name": "stdout",
     "output_type": "stream",
     "text": [
      "370\n"
     ]
    },
    {
     "data": {
      "text/plain": [
       "370"
      ]
     },
     "execution_count": 7,
     "metadata": {},
     "output_type": "execute_result"
    }
   ],
   "source": [
    "#Dot product of 2 vectors\n",
    "#For 2-d vectors, it is the equvalent to matrix multiication\n",
    "u = np.array([10,20])\n",
    "v = np.array([25,6])\n",
    "print(10*25+20*6)\n",
    "np.dot(u,v)"
   ]
  },
  {
   "cell_type": "code",
   "execution_count": 10,
   "id": "d64e9456",
   "metadata": {},
   "outputs": [
    {
     "name": "stdout",
     "output_type": "stream",
     "text": [
      "[[12 10]\n",
      " [ 4  6]\n",
      " [40 31]]=a\n",
      "\n",
      "[[ 2  8]\n",
      " [46 63]\n",
      " [50 10]]=b\n",
      "\n"
     ]
    }
   ],
   "source": [
    "a = np.array([[12,10],[4,6],[40,31],])\n",
    "b = np.array([[2,8],[46,63],[50,10],])\n",
    "print(a, end=\"=a\\n\\n\")\n",
    "print(b, end=\"=b\\n\\n\")\n"
   ]
  },
  {
   "cell_type": "code",
   "execution_count": 11,
   "id": "5005a746",
   "metadata": {},
   "outputs": [
    {
     "data": {
      "text/plain": [
       "array([[14, 18],\n",
       "       [50, 69],\n",
       "       [90, 41]])"
      ]
     },
     "execution_count": 11,
     "metadata": {},
     "output_type": "execute_result"
    }
   ],
   "source": [
    "a+b"
   ]
  },
  {
   "cell_type": "code",
   "execution_count": 12,
   "id": "097472ea",
   "metadata": {},
   "outputs": [
    {
     "data": {
      "text/plain": [
       "array([[ 10,   2],\n",
       "       [-42, -57],\n",
       "       [-10,  21]])"
      ]
     },
     "execution_count": 12,
     "metadata": {},
     "output_type": "execute_result"
    }
   ],
   "source": [
    "a-b"
   ]
  },
  {
   "cell_type": "code",
   "execution_count": 13,
   "id": "062f70f2",
   "metadata": {},
   "outputs": [
    {
     "data": {
      "text/plain": [
       "array([[ 8, 20],\n",
       "       [12, 28],\n",
       "       [32, 24]])"
      ]
     },
     "execution_count": 13,
     "metadata": {},
     "output_type": "execute_result"
    }
   ],
   "source": [
    "#Matrix scalar multification\n",
    "a=4\n",
    "b=np.array([[2,5],[3,7],[8,6],])\n",
    "a*b"
   ]
  },
  {
   "cell_type": "code",
   "execution_count": 14,
   "id": "70c62baa",
   "metadata": {},
   "outputs": [
    {
     "data": {
      "text/plain": [
       "array([170, 390])"
      ]
     },
     "execution_count": 14,
     "metadata": {},
     "output_type": "execute_result"
    }
   ],
   "source": [
    "#Matrix and vector multification\n",
    "a=[[5,10],[15,20]]\n",
    "b=[10,12]\n",
    "np.dot(a,b)"
   ]
  },
  {
   "cell_type": "code",
   "execution_count": 15,
   "id": "d2eeb454",
   "metadata": {},
   "outputs": [
    {
     "data": {
      "text/plain": [
       "array([[105,  80],\n",
       "       [225, 190],\n",
       "       [345, 300]])"
      ]
     },
     "execution_count": 15,
     "metadata": {},
     "output_type": "execute_result"
    }
   ],
   "source": [
    "#Matrix to Matrix multification\n",
    "a = [[5,10],[15,20],[25,30]]\n",
    "b = [[3,6],[9,5]]\n",
    "np.dot(a,b)"
   ]
  },
  {
   "cell_type": "code",
   "execution_count": 18,
   "id": "6392688d",
   "metadata": {},
   "outputs": [
    {
     "name": "stdout",
     "output_type": "stream",
     "text": [
      "[[ 5 10]\n",
      " [15 20]\n",
      " [25 30]]=a\n",
      "\n",
      "[[ 5 15 25]\n",
      " [10 20 30]]=aT"
     ]
    }
   ],
   "source": [
    "#Transpose a matrix\n",
    "a =np.array([[5,10],[15,20],[25,30]])\n",
    "print(a, end=\"=a\\n\\n\")\n",
    "print(a.T, end=\"=aT\")"
   ]
  },
  {
   "cell_type": "code",
   "execution_count": 19,
   "id": "01ebfa35",
   "metadata": {},
   "outputs": [
    {
     "name": "stdout",
     "output_type": "stream",
     "text": [
      "[[1. 0.]\n",
      " [0. 1.]] = I1\n",
      "\n",
      "[[1. 0. 0.]\n",
      " [0. 1. 0.]\n",
      " [0. 0. 1.]] = I2\n",
      "\n"
     ]
    }
   ],
   "source": [
    "#Create an Identity matrix\n",
    "I1 = np.eye(2)\n",
    "I2 = np.eye(3)\n",
    "print(I1, end=\" = I1\\n\\n\")\n",
    "print(I2, end=\" = I2\\n\\n\")"
   ]
  },
  {
   "cell_type": "code",
   "execution_count": 20,
   "id": "33ab6d89",
   "metadata": {},
   "outputs": [
    {
     "name": "stdout",
     "output_type": "stream",
     "text": [
      "[[2 1 0]\n",
      " [0 1 0]\n",
      " [1 2 2]] =a\n",
      "\n",
      "[[ 0.5  -0.5   0.  ]\n",
      " [ 0.    1.    0.  ]\n",
      " [-0.25 -0.75  0.5 ]]=|a|"
     ]
    }
   ],
   "source": [
    "#Inverse a matrix\n",
    "#Given a square matrix a\n",
    "# return the matrix ainv satisfying dot(a, ainv)\n",
    "# = dot(ainv,a)= eye(a.shape[0]).\n",
    "a = np.array([\n",
    "    [2,1,0],\n",
    "    [0,1,0],\n",
    "    [1,2,2],\n",
    "])\n",
    "print(a, end=\" =a\\n\\n\")\n",
    "print(np.linalg.inv(a), end=\"=|a|\")"
   ]
  },
  {
   "cell_type": "code",
   "execution_count": null,
   "id": "de3fe641",
   "metadata": {},
   "outputs": [],
   "source": []
  },
  {
   "cell_type": "code",
   "execution_count": null,
   "id": "c6274f5e",
   "metadata": {},
   "outputs": [],
   "source": []
  }
 ],
 "metadata": {
  "kernelspec": {
   "display_name": "Python 3",
   "language": "python",
   "name": "python3"
  },
  "language_info": {
   "codemirror_mode": {
    "name": "ipython",
    "version": 3
   },
   "file_extension": ".py",
   "mimetype": "text/x-python",
   "name": "python",
   "nbconvert_exporter": "python",
   "pygments_lexer": "ipython3",
   "version": "3.8.8"
  }
 },
 "nbformat": 4,
 "nbformat_minor": 5
}
