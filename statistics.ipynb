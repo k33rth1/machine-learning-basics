{
 "cells": [
  {
   "cell_type": "code",
   "execution_count": 12,
   "id": "0641d35e",
   "metadata": {},
   "outputs": [
    {
     "name": "stdout",
     "output_type": "stream",
     "text": [
      "      Name  Salary\n",
      "0    Janes   50000\n",
      "1  Michael   54000\n",
      "2  Willian   50000\n",
      "3     Rosy  189000\n",
      "4     Hana   55000\n"
     ]
    }
   ],
   "source": [
    "import pandas as pd\n",
    "df = pd.DataFrame({'Name': ['Janes','Michael','Willian','Rosy','Hana','Ferdie','Graeme'],\n",
    "                  'Salary':[50000,54000,50000,189000,55000,40000,59000]})\n",
    "print(df.head())"
   ]
  },
  {
   "cell_type": "code",
   "execution_count": 19,
   "id": "324239b2",
   "metadata": {},
   "outputs": [
    {
     "name": "stdout",
     "output_type": "stream",
     "text": [
      "min:40000\n",
      "max:189000\n",
      "mean: 71000.0\n",
      "median: 54000.0\n",
      "mode: 0    50000\n",
      "dtype: int64\n",
      "range: 149000\n"
     ]
    }
   ],
   "source": [
    "#Calculate the mean, median,mode,min,max\n",
    "print ('min:' +str(df['Salary'].min()))\n",
    "print ('max:' +str(df['Salary'].max()))\n",
    "print ('mean:',df['Salary'].mean())\n",
    "print ('median:',df['Salary'].median())\n",
    "print ('mode:',df['Salary'].mode())\n",
    "print ('range:',df['Salary'].max() - df['Salary'].min())"
   ]
  },
  {
   "cell_type": "code",
   "execution_count": 20,
   "id": "aaddfa90",
   "metadata": {},
   "outputs": [
    {
     "data": {
      "text/plain": [
       "count         7.000000\n",
       "mean      71000.000000\n",
       "std       52370.475143\n",
       "min       40000.000000\n",
       "25%       50000.000000\n",
       "50%       54000.000000\n",
       "75%       57000.000000\n",
       "max      189000.000000\n",
       "Name: Salary, dtype: float64"
      ]
     },
     "execution_count": 20,
     "metadata": {},
     "output_type": "execute_result"
    }
   ],
   "source": [
    "df['Salary'].describe()"
   ]
  },
  {
   "cell_type": "code",
   "execution_count": 22,
   "id": "af9d8f69",
   "metadata": {},
   "outputs": [
    {
     "data": {
      "text/plain": [
       "7.0"
      ]
     },
     "execution_count": 22,
     "metadata": {},
     "output_type": "execute_result"
    }
   ],
   "source": [
    "df['Salary'].describe()['count']"
   ]
  },
  {
   "cell_type": "code",
   "execution_count": 28,
   "id": "bfe6d504",
   "metadata": {},
   "outputs": [
    {
     "name": "stdout",
     "output_type": "stream",
     "text": [
      "      Name  Salary\n",
      "0    Janes   50000\n",
      "1  Michael   54000\n",
      "2  Willian   50000\n",
      "3     Rosy  189000\n",
      "4     Hana   55000\n",
      "5   Ferdie   40000\n",
      "6   Graeme   59000\n"
     ]
    },
    {
     "data": {
      "image/png": "[encoded data removed]",
      "text/plain": [
       "<Figure size 432x288 with 1 Axes>"
      ]
     },
     "metadata": {
      "needs_background": "light"
     },
     "output_type": "display_data"
    }
   ],
   "source": [
    "#Histogram of salaries\n",
    "%matplotlib inline\n",
    "import matplotlib.pyplot as plt\n",
    "print(df)\n",
    "\n",
    "salary = df['Salary']\n",
    "salary.plot.hist(title='Salary Distribution', color='grey',bins=25)\n",
    "plt.axvline(salary.mean(),color='violet',linestyle='dashed',linewidth=2)\n",
    "plt.axvline(salary.median(),color='red',linestyle='dashed',linewidth=2)\n",
    "\n",
    "plt.show()"
   ]
  },
  {
   "cell_type": "code",
   "execution_count": null,
   "id": "a503a362",
   "metadata": {},
   "outputs": [],
   "source": []
  }
 ],
 "metadata": {
  "kernelspec": {
   "display_name": "Python 3",
   "language": "python",
   "name": "python3"
  },
  "language_info": {
   "codemirror_mode": {
    "name": "ipython",
    "version": 3
   },
   "file_extension": ".py",
   "mimetype": "text/x-python",
   "name": "python",
   "nbconvert_exporter": "python",
   "pygments_lexer": "ipython3",
   "version": "3.8.8"
  }
 },
 "nbformat": 4,
 "nbformat_minor": 5
}
